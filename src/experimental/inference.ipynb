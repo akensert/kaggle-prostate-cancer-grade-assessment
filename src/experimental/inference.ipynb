{
 "cells": [
  {
   "cell_type": "code",
   "execution_count": 2,
   "metadata": {},
   "outputs": [],
   "source": [
    "import numpy as np\n",
    "import pandas as pd\n",
    "import tensorflow as tf\n",
    "import math\n",
    "from sklearn import metrics\n",
    "import os\n",
    "import sys\n",
    "\n",
    "sys.path.append('../../models')\n",
    "sys.path.append('../')\n",
    "\n",
    "from efficientnet_norm import EfficientNetB2\n",
    "\n",
    "from config import Config\n",
    "from util import DataManager\n",
    "from optimizer import get_optimizer\n",
    "from generator import get_dataset\n",
    "from model import NeuralNet, SingleGPUModel"
   ]
  },
  {
   "cell_type": "code",
   "execution_count": 3,
   "metadata": {},
   "outputs": [],
   "source": [
    "input_shape = Config.input.input_shape\n",
    "input_path = Config.input.path\n",
    "fold = Config.train.fold\n",
    "batch_size = Config.train.batch_size\n",
    "units=Config.model.units\n",
    "dropout=Config.model.dropout\n",
    "activation=Config.model.activation\n",
    "\n",
    "train_data, valid_data = DataManager.get_train_data(fold)"
   ]
  },
  {
   "cell_type": "code",
   "execution_count": 4,
   "metadata": {},
   "outputs": [],
   "source": [
    "dataset = get_dataset(\n",
    "    dataframe=valid_data,\n",
    "    input_path=input_path,\n",
    "    batch_size=batch_size,\n",
    "    training=False,\n",
    "    augment=True,\n",
    "    image_compression=False,\n",
    "    buffer_size=1,\n",
    "    cache=False,)\n",
    "    \n",
    "model = NeuralNet(\n",
    "    engine=EfficientNetB2,\n",
    "    input_shape=input_shape,\n",
    "    units=units,\n",
    "    dropout=dropout,\n",
    "    activation=activation,\n",
    "    weights=None)\n",
    "model.build([None, *input_shape])\n",
    "\n",
    "single_gpu_model = SingleGPUModel(model, optimizer=None, strategy=None)"
   ]
  },
  {
   "cell_type": "code",
   "execution_count": 7,
   "metadata": {},
   "outputs": [],
   "source": [
    "predictions = []\n",
    "weights = []\n",
    "model_path = '../output/weights/'"
   ]
  },
  {
   "cell_type": "code",
   "execution_count": 8,
   "metadata": {},
   "outputs": [
    {
     "name": "stderr",
     "output_type": "stream",
     "text": [
      "\r",
      "  0%|          | 0/1062 [00:00<?, ?it/s]"
     ]
    },
    {
     "name": "stdout",
     "output_type": "stream",
     "text": [
      "Inference will be done without tf.distribute.strategy\n"
     ]
    },
    {
     "name": "stderr",
     "output_type": "stream",
     "text": [
      "100%|██████████| 1062/1062 [03:54<00:00,  4.52it/s]\n",
      "  0%|          | 0/1062 [00:00<?, ?it/s]"
     ]
    },
    {
     "name": "stdout",
     "output_type": "stream",
     "text": [
      "0.9075481291484935\n",
      "Inference will be done without tf.distribute.strategy\n"
     ]
    },
    {
     "name": "stderr",
     "output_type": "stream",
     "text": [
      "100%|██████████| 1062/1062 [03:47<00:00,  4.66it/s]\n",
      "  0%|          | 0/1062 [00:00<?, ?it/s]"
     ]
    },
    {
     "name": "stdout",
     "output_type": "stream",
     "text": [
      "0.9082385514200217\n",
      "Inference will be done without tf.distribute.strategy\n"
     ]
    },
    {
     "name": "stderr",
     "output_type": "stream",
     "text": [
      "100%|██████████| 1062/1062 [03:52<00:00,  4.58it/s]"
     ]
    },
    {
     "name": "stdout",
     "output_type": "stream",
     "text": [
      "0.9055548400154557\n"
     ]
    },
    {
     "name": "stderr",
     "output_type": "stream",
     "text": [
      "\n"
     ]
    }
   ],
   "source": [
    "preds, trues = single_gpu_model.inference(\n",
    "    dataset, model_path + 'model-0-26.h5', return_probs=True)\n",
    "predictions.extend([preds])\n",
    "weights.extend([1.])\n",
    "preds = np.sum(preds, axis=-1)\n",
    "trues = np.sum(trues, axis=-1)\n",
    "print(metrics.cohen_kappa_score(\n",
    "    trues, np.round(preds, 0), weights='quadratic'))\n",
    "\n",
    "preds, trues = single_gpu_model.inference(\n",
    "    dataset, model_path + 'model-0-26.h5', return_probs=True)\n",
    "predictions.extend([preds])\n",
    "weights.extend([1.])\n",
    "preds = np.sum(preds, axis=-1)\n",
    "trues = np.sum(trues, axis=-1)\n",
    "print(metrics.cohen_kappa_score(\n",
    "    trues, np.round(preds, 0), weights='quadratic'))\n",
    "\n",
    "preds, trues = single_gpu_model.inference(\n",
    "    dataset, model_path + 'model-0-26.h5', return_probs=True)\n",
    "predictions.extend([preds])\n",
    "weights.extend([1.])\n",
    "preds = np.sum(preds, axis=-1)\n",
    "trues = np.sum(trues, axis=-1)\n",
    "print(metrics.cohen_kappa_score(\n",
    "    trues, np.round(preds, 0), weights='quadratic'))\n",
    "\n",
    "\n",
    "# preds, trues = single_gpu_model.inference(\n",
    "#     dataset, model_path + 'model-0-26.h5', return_probs=True)\n",
    "# predictions.extend([preds])\n",
    "# weights.extend([1.])\n",
    "# preds = np.sum(preds, axis=-1)\n",
    "# trues = np.sum(trues, axis=-1)\n",
    "# print(metrics.cohen_kappa_score(\n",
    "#     trues, np.round(preds, 0), weights='quadratic'))\n",
    "\n",
    "\n",
    "# preds, trues = single_gpu_model.inference(\n",
    "#     dataset, model_path + 'model-0-26.h5', return_probs=True)\n",
    "# predictions.extend([preds])\n",
    "# weights.extend([1.])\n",
    "# preds = np.sum(preds, axis=-1)\n",
    "# trues = np.sum(trues, axis=-1)\n",
    "# print(metrics.cohen_kappa_score(\n",
    "#     trues, np.round(preds, 0), weights='quadratic'))\n",
    "\n"
   ]
  },
  {
   "cell_type": "code",
   "execution_count": 16,
   "metadata": {},
   "outputs": [
    {
     "name": "stdout",
     "output_type": "stream",
     "text": [
      "final qwk = 0.9168439688270706\n"
     ]
    }
   ],
   "source": [
    "from scipy import optimize\n",
    "from functools import partial\n",
    "\n",
    "class OptimizedProbs:\n",
    "    \n",
    "    def __init__(self):\n",
    "        self.coefs = np.array([1., 1., 1., 1., 1.])\n",
    "    \n",
    "    def qwk_loss(self, coefs, preds, trues):\n",
    "        if trues.ndim == 2:\n",
    "            trues = np.sum(trues, -1)\n",
    "        preds_opt = np.round(np.sum(preds * coefs, -1), 0)\n",
    "        return -metrics.cohen_kappa_score(\n",
    "            trues, preds_opt, weights='quadratic')\n",
    "    \n",
    "    def fit(self, preds, trues):\n",
    "        loss_partial = partial(self.qwk_loss, preds=preds, trues=trues)\n",
    "        initial_coefs = self.coefs.copy()\n",
    "        self.coefs = optimize.minimize(\n",
    "            loss_partial, initial_coefs, method='nelder-mead')\n",
    "        print('final qwk =', -self.coefs['fun'])\n",
    "        \n",
    "    def predict(self, preds, coefs):\n",
    "        return np.round(np.sum(preds * coefs, -1), 0)\n",
    "    \n",
    "    def get_coefs(self):\n",
    "        return self.coefs['x']\n",
    "    \n",
    "\n",
    "metrics.cohen_kappa_score(\n",
    "    trues, np.round(np.sum(np.average(predictions, axis=0, weights=weights),-1), 0), weights='quadratic')\n",
    "opt = OptimizedProbs()\n",
    "\n",
    "opt.fit(np.average(predictions, axis=0, weights=weights), trues)"
   ]
  },
  {
   "cell_type": "code",
   "execution_count": 17,
   "metadata": {},
   "outputs": [
    {
     "data": {
      "text/plain": [
       "array([0.96393032, 1.09518507, 1.08218469, 0.99746297, 1.03097987])"
      ]
     },
     "execution_count": 17,
     "metadata": {},
     "output_type": "execute_result"
    }
   ],
   "source": [
    "opt.get_coefs()"
   ]
  },
  {
   "cell_type": "code",
   "execution_count": 18,
   "metadata": {},
   "outputs": [],
   "source": [
    "#array([1.01981319, 1.14636715, 1.05795798, 0.94073006, 1.01049341])"
   ]
  },
  {
   "cell_type": "code",
   "execution_count": 19,
   "metadata": {},
   "outputs": [],
   "source": [
    "p = opt.predict(np.average(predictions, axis=0, weights=weights), coefs=np.array([1.21992526, 1.02835988, 1.13834745, 1.04681836, 0.8101469]))"
   ]
  },
  {
   "cell_type": "code",
   "execution_count": 20,
   "metadata": {},
   "outputs": [
    {
     "data": {
      "text/plain": [
       "0.9180435736218745"
      ]
     },
     "execution_count": 20,
     "metadata": {},
     "output_type": "execute_result"
    }
   ],
   "source": [
    "metrics.cohen_kappa_score(\n",
    "    trues, p, weights='quadratic')"
   ]
  },
  {
   "cell_type": "code",
   "execution_count": null,
   "metadata": {},
   "outputs": [],
   "source": []
  }
 ],
 "metadata": {
  "kernelspec": {
   "display_name": "Python 3",
   "language": "python",
   "name": "python3"
  },
  "language_info": {
   "codemirror_mode": {
    "name": "ipython",
    "version": 3
   },
   "file_extension": ".py",
   "mimetype": "text/x-python",
   "name": "python",
   "nbconvert_exporter": "python",
   "pygments_lexer": "ipython3",
   "version": "3.6.9"
  }
 },
 "nbformat": 4,
 "nbformat_minor": 4
}
